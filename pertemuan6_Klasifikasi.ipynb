{
 "cells": [
  {
   "cell_type": "code",
   "execution_count": 19,
   "id": "2834f628",
   "metadata": {},
   "outputs": [
    {
     "name": "stdout",
     "output_type": "stream",
     "text": [
      "(7, 5) (1, 5) (2, 5)\n"
     ]
    }
   ],
   "source": [
    "import pandas as pd\n",
    "from sklearn.model_selection import train_test_split\n",
    "\n",
    "df = pd.read_csv(\"processed_kelulusan.csv\")\n",
    "X = df.drop(\"Lulus\", axis=1)\n",
    "y = df[\"Lulus\"]\n",
    "\n",
    "# split: 70/15/15\n",
    "X_train, X_temp, y_train, y_temp = train_test_split(\n",
    "    X, y, test_size=0.30,  random_state=42\n",
    ")\n",
    "X_val, X_test, y_val, y_test = train_test_split(\n",
    "    X_temp, y_temp, test_size=0.50,random_state=42\n",
    ")\n",
    "print(X_train.shape, X_val.shape, X_test.shape)"
   ]
  },
  {
   "cell_type": "code",
   "execution_count": 20,
   "id": "72635085",
   "metadata": {},
   "outputs": [
    {
     "name": "stdout",
     "output_type": "stream",
     "text": [
      "Baseline RF — F1(val): 1.0\n",
      "              precision    recall  f1-score   support\n",
      "\n",
      "           0      1.000     1.000     1.000         1\n",
      "\n",
      "    accuracy                          1.000         1\n",
      "   macro avg      1.000     1.000     1.000         1\n",
      "weighted avg      1.000     1.000     1.000         1\n",
      "\n"
     ]
    }
   ],
   "source": [
    "from sklearn.pipeline import Pipeline\n",
    "from sklearn.compose import ColumnTransformer\n",
    "from sklearn.preprocessing import StandardScaler\n",
    "from sklearn.impute import SimpleImputer\n",
    "from sklearn.ensemble import RandomForestClassifier\n",
    "from sklearn.metrics import f1_score, classification_report\n",
    "\n",
    "num_cols = X_train.select_dtypes(include=\"number\").columns\n",
    "\n",
    "pre = ColumnTransformer([\n",
    "    (\"num\", Pipeline([(\"imp\", SimpleImputer(strategy=\"median\")),\n",
    "                      (\"sc\", StandardScaler())]), num_cols),\n",
    "], remainder=\"drop\")\n",
    "\n",
    "rf = RandomForestClassifier(\n",
    "    n_estimators=300, max_features=\"sqrt\",\n",
    "    class_weight=\"balanced\", random_state=42\n",
    ")\n",
    "\n",
    "pipe = Pipeline([(\"pre\", pre), (\"clf\", rf)])\n",
    "pipe.fit(X_train, y_train)\n",
    "\n",
    "y_val_pred = pipe.predict(X_val)\n",
    "print(\"Baseline RF — F1(val):\", f1_score(y_val, y_val_pred, average=\"macro\"))\n",
    "print(classification_report(y_val, y_val_pred, digits=3))"
   ]
  },
  {
   "cell_type": "code",
   "execution_count": 21,
   "id": "556cef50",
   "metadata": {},
   "outputs": [
    {
     "name": "stdout",
     "output_type": "stream",
     "text": [
      "CV F1-macro (train): 0.7 ± 0.03333333333333338\n"
     ]
    }
   ],
   "source": [
    "from sklearn.model_selection import StratifiedKFold, cross_val_score\n",
    "\n",
    "skf = StratifiedKFold(n_splits=2, shuffle=True, random_state=42)\n",
    "scores = cross_val_score(pipe, X_train, y_train, cv=skf, scoring=\"f1_macro\", n_jobs=-1)\n",
    "print(\"CV F1-macro (train):\", scores.mean(), \"±\", scores.std())"
   ]
  },
  {
   "cell_type": "code",
   "execution_count": 22,
   "id": "ec22d7f0",
   "metadata": {},
   "outputs": [
    {
     "name": "stdout",
     "output_type": "stream",
     "text": [
      "Fitting 2 folds for each of 12 candidates, totalling 24 fits\n",
      "Best params: {'clf__max_depth': None, 'clf__min_samples_split': 2}\n",
      "Best RF — F1(val): 1.0\n"
     ]
    }
   ],
   "source": [
    "from sklearn.model_selection import GridSearchCV\n",
    "\n",
    "param = {\n",
    "  \"clf__max_depth\": [None, 12, 20, 30],\n",
    "  \"clf__min_samples_split\": [2, 5, 10]\n",
    "}\n",
    "\n",
    "gs = GridSearchCV(pipe, param_grid=param, cv=skf,\n",
    "                  scoring=\"f1_macro\", n_jobs=-1, verbose=1)\n",
    "gs.fit(X_train, y_train)\n",
    "print(\"Best params:\", gs.best_params_)\n",
    "best_model = gs.best_estimator_\n",
    "y_val_best = best_model.predict(X_val)\n",
    "print(\"Best RF — F1(val):\", f1_score(y_val, y_val_best, average=\"macro\"))"
   ]
  },
  {
   "cell_type": "code",
   "execution_count": 23,
   "id": "099afbc3",
   "metadata": {},
   "outputs": [
    {
     "name": "stdout",
     "output_type": "stream",
     "text": [
      "F1(test): 1.0\n",
      "              precision    recall  f1-score   support\n",
      "\n",
      "           0      1.000     1.000     1.000         1\n",
      "           1      1.000     1.000     1.000         1\n",
      "\n",
      "    accuracy                          1.000         2\n",
      "   macro avg      1.000     1.000     1.000         2\n",
      "weighted avg      1.000     1.000     1.000         2\n",
      "\n",
      "Confusion Matrix (test):\n",
      "[[1 0]\n",
      " [0 1]]\n",
      "ROC-AUC(test): 1.0\n"
     ]
    },
    {
     "data": {
      "image/png": "[encoded data removed]",
      "text/plain": [
       "<Figure size 640x480 with 1 Axes>"
      ]
     },
     "metadata": {},
     "output_type": "display_data"
    },
    {
     "data": {
      "image/png": "[encoded data removed]",
      "text/plain": [
       "<Figure size 640x480 with 1 Axes>"
      ]
     },
     "metadata": {},
     "output_type": "display_data"
    }
   ],
   "source": [
    "from sklearn.metrics import confusion_matrix, roc_auc_score, roc_curve, precision_recall_curve\n",
    "import matplotlib.pyplot as plt\n",
    "\n",
    "final_model = best_model  # pilih terbaik; jika baseline lebih baik, gunakan pipe\n",
    "\n",
    "y_test_pred = final_model.predict(X_test)\n",
    "print(\"F1(test):\", f1_score(y_test, y_test_pred, average=\"macro\"))\n",
    "print(classification_report(y_test, y_test_pred, digits=3))\n",
    "print(\"Confusion Matrix (test):\")\n",
    "print(confusion_matrix(y_test, y_test_pred))\n",
    "\n",
    "# ROC-AUC (bila ada predict_proba)\n",
    "if hasattr(final_model, \"predict_proba\"):\n",
    "    y_test_proba = final_model.predict_proba(X_test)[:,1]\n",
    "    try:\n",
    "        print(\"ROC-AUC(test):\", roc_auc_score(y_test, y_test_proba))\n",
    "    except:\n",
    "        pass\n",
    "    fpr, tpr, _ = roc_curve(y_test, y_test_proba)\n",
    "    plt.figure(); plt.plot(fpr, tpr); plt.xlabel(\"FPR\"); plt.ylabel(\"TPR\"); plt.title(\"ROC (test)\")\n",
    "    plt.tight_layout(); plt.savefig(\"roc_test.png\", dpi=120)\n",
    "\n",
    "    prec, rec, _ = precision_recall_curve(y_test, y_test_proba)\n",
    "    plt.figure(); plt.plot(rec, prec); plt.xlabel(\"Recall\"); plt.ylabel(\"Precision\"); plt.title(\"PR Curve (test)\")\n",
    "    plt.tight_layout(); plt.savefig(\"pr_test.png\", dpi=120)"
   ]
  },
  {
   "cell_type": "code",
   "execution_count": 24,
   "id": "0a40a942",
   "metadata": {},
   "outputs": [
    {
     "name": "stdout",
     "output_type": "stream",
     "text": [
      "Top feature importance:\n",
      "num__IPK: 0.2483\n",
      "num__IPK_x_Study: 0.2279\n",
      "num__Waktu_Belajar_Jam: 0.2211\n",
      "num__Rasio_Absensi: 0.1565\n",
      "num__Jumlah_Absensi: 0.1463\n"
     ]
    }
   ],
   "source": [
    "# 6a) Feature importance native (gini)\n",
    "try:\n",
    "    import numpy as np\n",
    "    importances = final_model.named_steps[\"clf\"].feature_importances_\n",
    "    fn = final_model.named_steps[\"pre\"].get_feature_names_out()\n",
    "    top = sorted(zip(fn, importances), key=lambda x: x[1], reverse=True)\n",
    "    print(\"Top feature importance:\")\n",
    "    for name, val in top[:10]:\n",
    "        print(f\"{name}: {val:.4f}\")\n",
    "except Exception as e:\n",
    "    print(\"Feature importance tidak tersedia:\", e)\n",
    "\n",
    "# 6b) (Opsional) Permutation Importance\n",
    "# from sklearn.inspection import permutation_importance\n",
    "# r = permutation_importance(final_model, X_val, y_val, n_repeats=10, random_state=42, n_jobs=-1)\n",
    "# ... (urutkan dan laporkan)"
   ]
  },
  {
   "cell_type": "code",
   "execution_count": 25,
   "id": "25864b4d",
   "metadata": {},
   "outputs": [
    {
     "name": "stdout",
     "output_type": "stream",
     "text": [
      "Model disimpan sebagai rf_model.pkl\n"
     ]
    }
   ],
   "source": [
    "import joblib\n",
    "joblib.dump(final_model, \"rf_model.pkl\")\n",
    "print(\"Model disimpan sebagai rf_model.pkl\")"
   ]
  },
  {
   "cell_type": "code",
   "execution_count": null,
   "id": "185201be",
   "metadata": {},
   "outputs": [
    {
     "name": "stdout",
     "output_type": "stream",
     "text": [
      "Prediksi: 1\n"
     ]
    }
   ],
   "source": [
    "# Contoh sekali jalan (input fiktif), sesuaikan nama kolom:\n",
    "import pandas as pd, joblib\n",
    "mdl = joblib.load(\"rf_model.pkl\")\n",
    "sample = pd.DataFrame([{\n",
    "  \"IPK\": 3.4,\n",
    "  \"Jumlah_Absensi\": 4,\n",
    "  \"Waktu_Belajar_Jam\": 7,\n",
    "  \"Rasio_Absensi\": 4/14,\n",
    "  \"IPK_x_Study\": 3.4*7\n",
    "}])\n",
    "print(\"Prediksi:\", int(mdl.predict(sample)[0]))"
   ]
  }
 ],
 "metadata": {
  "kernelspec": {
   "display_name": "venv",
   "language": "python",
   "name": "python3"
  },
  "language_info": {
   "codemirror_mode": {
    "name": "ipython",
    "version": 3
   },
   "file_extension": ".py",
   "mimetype": "text/x-python",
   "name": "python",
   "nbconvert_exporter": "python",
   "pygments_lexer": "ipython3",
   "version": "3.10.11"
  }
 },
 "nbformat": 4,
 "nbformat_minor": 5
}
